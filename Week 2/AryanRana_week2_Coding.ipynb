{
 "cells": [
  {
   "cell_type": "code",
   "execution_count": null,
   "metadata": {},
   "outputs": [],
   "source": []
  },
  {
   "attachments": {},
   "cell_type": "markdown",
   "metadata": {},
   "source": [
    "1. Given an integer array nums, return true if any value appears at least twice in the array, and return\n",
    "false if every element is distinct."
   ]
  },
  {
   "cell_type": "code",
   "execution_count": 10,
   "metadata": {},
   "outputs": [
    {
     "name": "stdout",
     "output_type": "stream",
     "text": [
      "[1, 1, 3, 4]\n",
      "True\n"
     ]
    }
   ],
   "source": [
    "def DuplicateNumber(temp):\n",
    "    default_set = set()\n",
    "    for i in temp:\n",
    "        if i in default_set:\n",
    "            return True\n",
    "        else:\n",
    "            default_set.add(i)\n",
    "    return False\n",
    "\n",
    "a = int(input(\"enter number of list elements\"))\n",
    "\n",
    "temp=[]\n",
    "\n",
    "for t in range(a):\n",
    "    new = int(input(\"enter element\"))\n",
    "    temp.append(new)\n",
    "print(temp)\n",
    "\n",
    "solution=DuplicateNumber(temp)\n",
    "print(solution)\n"
   ]
  },
  {
   "attachments": {},
   "cell_type": "markdown",
   "metadata": {},
   "source": [
    "2. You are given an m x n matrix mat and two integers r and c representing the number of rows and\n",
    "the number of columns of the wanted reshaped matrix.\n",
    "The reshaped matrix should be filled with all the elements of the original matrix in the same row- traversing order as they were"
   ]
  },
  {
   "cell_type": "code",
   "execution_count": 59,
   "metadata": {},
   "outputs": [
    {
     "name": "stdout",
     "output_type": "stream",
     "text": [
      "[[2, 2], [2, 2]]\n",
      "[[2, 2], [2, 2]]\n"
     ]
    }
   ],
   "source": [
    "def Matrix_calc(R,C):\n",
    "    for i in range(R):\n",
    "        row = []\n",
    "        for j in range(C):\n",
    "            temp = int(input(f\"enter elements({i}, {j}):\"))\n",
    "            row.append(temp)\n",
    "        matrix.append(row)\n",
    "    return matrix\n",
    "\n",
    "def Matrix_calc_new(mat,R,C):\n",
    "    '''Flattening a matrix means converting a multi-dimensional matrix into a one-dimensional list or array. \n",
    "        1. The for row in mat part iterates over each row in the original matrix mat.\n",
    "        2. Inside this loop, the for num in row part iterates over each element (num) in the current row.\n",
    "        3. The num elements are then appended to the flattened list.'''\n",
    "    flattened = [num for row in mat for num in row]\n",
    "\n",
    "    matrix_new = []\n",
    "    count = 0\n",
    "    for i in range(R):\n",
    "        row = []\n",
    "        for j in range(C):\n",
    "            row.append(flattened[count])\n",
    "            count += 1\n",
    "        matrix_new.append(row)\n",
    "\n",
    "    return matrix_new\n",
    "\n",
    "\n",
    "rows = int(input(\"Enter the number of rows: \"))\n",
    "columns = int(input(\"Enter the number of columns: \"))\n",
    "matrix = []\n",
    "solution = Matrix_calc(rows,columns)\n",
    "print(solution)\n",
    "\n",
    "r = int(input(\"enter new number of rows\"))\n",
    "c = int(input(\"enter new number of columns\"))\n",
    "\n",
    "solution = Matrix_calc_new(matrix,r,c)\n",
    "\n",
    "print(solution)\n"
   ]
  },
  {
   "cell_type": "code",
   "execution_count": 2,
   "metadata": {},
   "outputs": [
    {
     "name": "stdout",
     "output_type": "stream",
     "text": [
      "True\n"
     ]
    }
   ],
   "source": [
    "def pali(s):\n",
    "    s = ''.join(c.lower() for c in s if c.isalnum())\n",
    "    return s == s[::-1]\n",
    "print(pali(\"Marvel : Studios, soiduts : levram\"))                \n"
   ]
  },
  {
   "attachments": {},
   "cell_type": "markdown",
   "metadata": {},
   "source": [
    "4. Given two binary strings a and b, return their sum as "
   ]
  },
  {
   "cell_type": "code",
   "execution_count": 9,
   "metadata": {},
   "outputs": [
    {
     "name": "stdout",
     "output_type": "stream",
     "text": [
      "11001\n"
     ]
    }
   ],
   "source": [
    "def Binaryaddition(a, b):\n",
    "   \n",
    "    total = \"\"\n",
    "    binary_carry = 0\n",
    "\n",
    "    i = len(a) - 1\n",
    "    j = len(b) - 1\n",
    "\n",
    "    while i >= 0 or j >= 0 or binary_carry:\n",
    "    \n",
    "        n1 = int(a[i]) if i >= 0 else 0\n",
    "        n2 = int(b[j]) if j >= 0 else 0\n",
    "\n",
    "        cur_sum = n1 + n2 + binary_carry\n",
    "        bit = cur_sum % 2\n",
    "        binary_carry = cur_sum // 2\n",
    "\n",
    "        total = str(bit) + total\n",
    "\n",
    "        i -= 1\n",
    "        j -= 1\n",
    "\n",
    "    return total\n",
    "print(Binaryaddition(\"1010\", \"1111\")) \n"
   ]
  },
  {
   "attachments": {},
   "cell_type": "markdown",
   "metadata": {},
   "source": [
    "5. The Hamming distance between two integers is the number of positions at which the\n",
    "corresponding bits are different. Given two integers x and y, return the Hamming distance between\n",
    "them"
   ]
  },
  {
   "cell_type": "code",
   "execution_count": 8,
   "metadata": {},
   "outputs": [
    {
     "name": "stdout",
     "output_type": "stream",
     "text": [
      "3\n"
     ]
    }
   ],
   "source": [
    "def HammingCode(x, y):\n",
    "\n",
    "    result = x ^ y\n",
    "    dist = 0\n",
    "    while result:\n",
    "        if result & 1:\n",
    "            dist += 1\n",
    "        result >>= 1\n",
    "    return dist\n",
    "\n",
    "print(HammingCode(1, 6))  \n",
    "\n"
   ]
  },
  {
   "attachments": {},
   "cell_type": "markdown",
   "metadata": {},
   "source": [
    "6. Given a signed 32-bit integer x, return x with its digits reversed. If reversing x causes the value to go\n",
    "outside the signed 32-bit integer range [-231, 231 - 1], then return 0."
   ]
  },
  {
   "cell_type": "code",
   "execution_count": 10,
   "metadata": {},
   "outputs": [
    {
     "name": "stdout",
     "output_type": "stream",
     "text": [
      "321\n"
     ]
    }
   ],
   "source": [
    "def reverse_integer(n):\n",
    "  \n",
    "    negative = False\n",
    "    if n < 0:\n",
    "        negative = True\n",
    "        n = abs(n)\n",
    "\n",
    "    num = 0\n",
    "    while n > 0:\n",
    "        num = (num * 10) + (n % 10)\n",
    "        n //= 10\n",
    "\n",
    "    if negative:\n",
    "        num = -num\n",
    "\n",
    "    if num < -2**31 or num > 2**31 - 1:\n",
    "        return 0\n",
    "\n",
    "    return num\n",
    "\n",
    "print(reverse_integer(123))  \n"
   ]
  },
  {
   "attachments": {},
   "cell_type": "markdown",
   "metadata": {},
   "source": [
    "7. Write a function validate_brackets(s) that takes a string as input and checks whether the brackets\n",
    "in the string are balanced or not. The string may contain the brackets (), [], {}, and any other\n",
    "characters. The function should return True if the brackets are balanced, and False otherwise. For\n",
    "example, if the input string is \"(a + [b * c]) - {d / e}\", the function should return True."
   ]
  },
  {
   "cell_type": "code",
   "execution_count": 16,
   "metadata": {},
   "outputs": [
    {
     "name": "stdout",
     "output_type": "stream",
     "text": [
      "True\n"
     ]
    }
   ],
   "source": [
    "def brackets(s):\n",
    "\n",
    "    open = ['(', '[', '{']\n",
    "    close = [')', ']', '}']\n",
    "\n",
    "    stack = []\n",
    " \n",
    "    for char in s:\n",
    "        if char in open:\n",
    "            stack.append(char)\n",
    "        \n",
    "        elif char in close:\n",
    "            if not stack:   \n",
    "                return False\n",
    "\n",
    "            opening_bracket = stack.pop()\n",
    "            if open.index(opening_bracket) != close.index(char):\n",
    "                return False\n",
    "\n",
    "    return len(stack) == 0\n",
    "\n",
    "print(brackets(\"(a + [b * c]) - {d / e}\"))\n",
    "\n"
   ]
  },
  {
   "attachments": {},
   "cell_type": "markdown",
   "metadata": {},
   "source": [
    "8. Write a recursive function count_items(lst) that takes a list as input and returns the number of\n",
    "items in the list (including nested lists). For example, if the input list is [1, [2, 3], [4, [5, 6]], 7], the\n",
    "function should return 7"
   ]
  },
  {
   "cell_type": "code",
   "execution_count": 18,
   "metadata": {},
   "outputs": [
    {
     "name": "stdout",
     "output_type": "stream",
     "text": [
      "7\n"
     ]
    }
   ],
   "source": [
    "def items(l):\n",
    "    num = 0\n",
    "    for i in l:\n",
    "        if isinstance(i, list):\n",
    "            num += items(i)\n",
    "        else:\n",
    "            num += 1\n",
    "    return num\n",
    "\n",
    "print(items([1, [2, 3], [4, [5, 6]], 7]))    \n"
   ]
  },
  {
   "attachments": {},
   "cell_type": "markdown",
   "metadata": {},
   "source": [
    "9. Write a recursive function sum_digits(n) that takes a non-negative integer n as input and returns\n",
    "the sum of its digits. For example, if the input value is 12345, the function should return 15 (i.e., 1 + 2\n",
    "+ 3 + 4 + 5)."
   ]
  },
  {
   "cell_type": "code",
   "execution_count": 20,
   "metadata": {},
   "outputs": [
    {
     "name": "stdout",
     "output_type": "stream",
     "text": [
      "15\n"
     ]
    }
   ],
   "source": [
    "def sum(temp):\n",
    "    if temp == 0:\n",
    "        return 0\n",
    "    else:\n",
    "        return temp % 10 + sum(temp // 10)\n",
    "\n",
    "print(sum(12345))   \n"
   ]
  },
  {
   "attachments": {},
   "cell_type": "markdown",
   "metadata": {},
   "source": [
    "10. Given two strings word1 and word2, return the minimum number of operations required to convert word1 to word2. You have the following three operations permitted on a word: \n",
    "Insert a character \n",
    "Delete a character \n",
    "Replace a character"
   ]
  },
  {
   "cell_type": "code",
   "execution_count": 25,
   "metadata": {},
   "outputs": [
    {
     "name": "stdout",
     "output_type": "stream",
     "text": [
      "1\n"
     ]
    }
   ],
   "source": [
    "def minDistance(num1, num2):\n",
    "\n",
    "    n1 = len(num1)\n",
    "    n2 = len(num2)\n",
    "    min_dist = [[0] * (n2 + 1) for _ in range(n1 + 1)]\n",
    "\n",
    "    for i in range(n1 + 1):\n",
    "        min_dist[i][0] = i\n",
    "    \n",
    "    for j in range(n2 + 1):\n",
    "        min_dist[0][j] = j\n",
    "\n",
    "    for i in range(1, n1 + 1):\n",
    "        for j in range(1, n2 + 1):\n",
    "            if num1[i - 1] == num2[j - 1]:\n",
    "                min_dist[i][j] = min_dist[i - 1][j - 1]\n",
    "            else:\n",
    "                min_dist[i][j] = min(min_dist[i - 1][j - 1], min_dist[i][j - 1], min_dist[i - 1][j]) + 1\n",
    "\n",
    "    return min_dist[n1][n2]\n",
    "\n",
    "print(minDistance(\"hello\", \"yello\"))   \n",
    "\n"
   ]
  },
  {
   "attachments": {},
   "cell_type": "markdown",
   "metadata": {},
   "source": [
    "11. Given a rows x cols binary matrix filled with 0's and 1's, find the largest rectangle containing only\n",
    "1's and return its area."
   ]
  },
  {
   "cell_type": "code",
   "execution_count": 71,
   "metadata": {},
   "outputs": [
    {
     "name": "stdout",
     "output_type": "stream",
     "text": [
      "6\n"
     ]
    }
   ],
   "source": [
    "def maximalRectangle(matrix):\n",
    "    if not matrix or not matrix[0]:\n",
    "        return 0\n",
    "\n",
    "    rows = len(matrix)\n",
    "    cols = len(matrix[0])\n",
    "    heights = [0] * cols\n",
    "    max_area = 0\n",
    "\n",
    "    for row in range(rows):\n",
    "        for col in range(cols):\n",
    "            if matrix[row][col] == '1':\n",
    "                heights[col] += 1\n",
    "            else:\n",
    "                heights[col] = 0\n",
    "\n",
    "        max_area = max(max_area, largestRectangleArea(heights))\n",
    "\n",
    "    return max_area\n",
    "\n",
    "\n",
    "def largestRectangleArea(heights):\n",
    "    stack = []\n",
    "    heights.append(0)\n",
    "    max_area = 0\n",
    "\n",
    "    for i in range(len(heights)):\n",
    "        while stack and heights[i] < heights[stack[-1]]:\n",
    "            height = heights[stack.pop()]\n",
    "            width = i if not stack else i - stack[-1] - 1\n",
    "            max_area = max(max_area, height * width)\n",
    "\n",
    "        stack.append(i)\n",
    "\n",
    "    return max_area\n",
    "\n",
    "matrix = [\n",
    "    ['1', '0', '1', '0', '0'],\n",
    "    ['1', '0', '1', '1', '1'],\n",
    "    ['1', '1', '1', '1', '1'],\n",
    "    ['1', '0', '0', '1', '0']\n",
    "]\n",
    "print(maximalRectangle(matrix))    # Output: 6\n"
   ]
  },
  {
   "attachments": {},
   "cell_type": "markdown",
   "metadata": {},
   "source": [
    "12. A path in a binary tree is a sequence of nodes where each pair of adjacent nodes in the sequence has an edge connecting them. A\n",
    "node can only appear in the sequence at most once. Note that the path does not need to pass through the root. The path sum of a path is the sum of the node's values in the path. Given the root of a binary tree, return the maximum path sum of any non-empty path. \n",
    "\n",
    "Given an input string (s) and a pattern (p), implement wildcard pattern matching with support for '?' and '*' where:\n",
    "'?' Matches any single character. \n",
    "'*' Matches any sequence of characters (including the empty sequence). \n",
    "\n",
    "The matching should cover the entire input string (not partial)"
   ]
  },
  {
   "cell_type": "code",
   "execution_count": 73,
   "metadata": {},
   "outputs": [],
   "source": [
    "class TreeNode:\n",
    "    def __init__(self, val=0, left=None, right=None):\n",
    "        self.val = val\n",
    "        self.left = left\n",
    "        self.right = right\n",
    "\n",
    "def maxPathSum(root):\n",
    "    max_sum = float('-inf')\n",
    "\n",
    "    def maxPathSumHelper(node):\n",
    "        nonlocal max_sum\n",
    "\n",
    "        if node is None:\n",
    "            return 0\n",
    "\n",
    "        left_sum = max(0, maxPathSumHelper(node.left))\n",
    "        right_sum = max(0, maxPathSumHelper(node.right))\n",
    "\n",
    "        node_sum = node.val + left_sum + right_sum\n",
    "        max_sum = max(max_sum, node_sum)\n",
    "\n",
    "        return node.val + max(left_sum, right_sum)\n",
    "\n",
    "    maxPathSumHelper(root)\n",
    "    return max_sum\n",
    "\n",
    "def isMatch(s, p):\n",
    "    m, n = len(s), len(p)\n",
    "    dp = [[False] * (n + 1) for _ in range(m + 1)]\n",
    "    dp[0][0] = True\n",
    "\n",
    "    for j in range(1, n + 1):\n",
    "        if p[j - 1] == '*':\n",
    "            dp[0][j] = dp[0][j - 1]\n",
    "\n",
    "    for i in range(1, m + 1):\n",
    "        for j in range(1, n + 1):\n",
    "            if s[i - 1] == p[j - 1] or p[j - 1] == '?':\n",
    "                dp[i][j] = dp[i - 1][j - 1]\n",
    "            elif p[j - 1] == '*':\n",
    "                dp[i][j] = dp[i - 1][j] or dp[i][j - 1]\n",
    "            else:\n",
    "                dp[i][j] = False\n",
    "\n",
    "    return dp[m][n]\n"
   ]
  }
 ],
 "metadata": {
  "kernelspec": {
   "display_name": "base",
   "language": "python",
   "name": "python3"
  },
  "language_info": {
   "codemirror_mode": {
    "name": "ipython",
    "version": 3
   },
   "file_extension": ".py",
   "mimetype": "text/x-python",
   "name": "python",
   "nbconvert_exporter": "python",
   "pygments_lexer": "ipython3",
   "version": "3.9.12"
  },
  "orig_nbformat": 4
 },
 "nbformat": 4,
 "nbformat_minor": 2
}
