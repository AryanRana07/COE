{
 "cells": [
  {
   "attachments": {},
   "cell_type": "markdown",
   "metadata": {},
   "source": [
    "### Q1.\n",
    "Difference in virtual environment in pip vs conda"
   ]
  },
  {
   "attachments": {},
   "cell_type": "markdown",
   "metadata": {},
   "source": [
    "Both conda and pip are responsible for handling the dependencies. But pip is the default package handler for Python, it installs and manages all the packages from the PyPI, into the environment. Whereas conda is responsible for all the packages not just for python nu also to a veriety of lamnguages."
   ]
  },
  {
   "attachments": {},
   "cell_type": "markdown",
   "metadata": {},
   "source": [
    "### Q2.\n",
    "Differentiate between mutable and immutable data type."
   ]
  },
  {
   "attachments": {},
   "cell_type": "markdown",
   "metadata": {},
   "source": [
    "\n",
    "Mutable:\n",
    "    They can be changed after they are created.\n",
    "    The memory loaction remains same after they are changed.\n",
    "    They are used beacause they exhibit in-place operations.\n",
    "    Eg. Lists, Dictionary, sets.\n",
    "\n",
    "Immutable:\n",
    "    They can't be modified or changed after they are created.\n",
    "    If we perform an operation then anither object is created with the changes.\n",
    "    They are useful in sharing between different parts of program beacause they are not unexpectedly changed.\n",
    "    Eg. Strings, int, tuples etc."
   ]
  },
  {
   "attachments": {},
   "cell_type": "markdown",
   "metadata": {},
   "source": [
    "### Q3. "
   ]
  },
  {
   "attachments": {},
   "cell_type": "markdown",
   "metadata": {},
   "source": [
    "d) the global variable is shadowed.\n",
    "it is shadowed by the local variable in the scope where it is defined."
   ]
  },
  {
   "attachments": {},
   "cell_type": "markdown",
   "metadata": {},
   "source": [
    "### Q4."
   ]
  },
  {
   "attachments": {},
   "cell_type": "markdown",
   "metadata": {},
   "source": [
    "b) dictioanry"
   ]
  },
  {
   "attachments": {},
   "cell_type": "markdown",
   "metadata": {},
   "source": [
    "### Q5."
   ]
  },
  {
   "attachments": {},
   "cell_type": "markdown",
   "metadata": {},
   "source": [
    "C. No Error"
   ]
  },
  {
   "attachments": {},
   "cell_type": "markdown",
   "metadata": {},
   "source": [
    "### Q6."
   ]
  },
  {
   "attachments": {},
   "cell_type": "markdown",
   "metadata": {},
   "source": [
    "A. Indefinite\n",
    "because while loop continues indefinitely til the condition holds true"
   ]
  },
  {
   "attachments": {},
   "cell_type": "markdown",
   "metadata": {},
   "source": [
    "### Q7."
   ]
  },
  {
   "attachments": {},
   "cell_type": "markdown",
   "metadata": {},
   "source": [
    "a) Program goes into an infinite loop"
   ]
  },
  {
   "attachments": {},
   "cell_type": "markdown",
   "metadata": {},
   "source": [
    "### Q8"
   ]
  },
  {
   "attachments": {},
   "cell_type": "markdown",
   "metadata": {},
   "source": [
    "8<br> \n",
    "16"
   ]
  },
  {
   "attachments": {},
   "cell_type": "markdown",
   "metadata": {},
   "source": [
    "### Q9."
   ]
  },
  {
   "attachments": {},
   "cell_type": "markdown",
   "metadata": {},
   "source": [
    "Closure in context of Decoratore is the ability to access Variables from outer scope even after the function has finished executing. It allows the decorate function to retain access to variableseven when called separatelyfrom out of the function."
   ]
  },
  {
   "attachments": {},
   "cell_type": "markdown",
   "metadata": {},
   "source": [
    "### Q10."
   ]
  },
  {
   "attachments": {},
   "cell_type": "markdown",
   "metadata": {},
   "source": [
    "The return type to '*args' is a tuple and the return type to '**kwargs' is a dictionary."
   ]
  },
  {
   "attachments": {},
   "cell_type": "markdown",
   "metadata": {},
   "source": [
    "### Q11."
   ]
  },
  {
   "attachments": {},
   "cell_type": "markdown",
   "metadata": {},
   "source": [
    "Both are used for the effective coding in Python but:\n",
    "\n",
    "    Lambda:\n",
    "        -It is a one liner function and does not require a formal name or a 'def' statement.\n",
    "        -They are defined using the lambda keyword.\n",
    "        -They can take any number of arguments.\n",
    "        -They can only have one single expression.\n",
    "    Generation:\n",
    "        -It is a compact way of creating an iterator.\n",
    "        -They are define using parentheses'( )'.\n",
    "        -They are very useful when it comes to dealing with large datasets or infinite series.\n",
    "        -They can be used in simillar context as list comprehensions, such as for loops, function arguments to other funtions."
   ]
  },
  {
   "attachments": {},
   "cell_type": "markdown",
   "metadata": {},
   "source": [
    "### Q12."
   ]
  },
  {
   "attachments": {},
   "cell_type": "markdown",
   "metadata": {},
   "source": [
    "A. None"
   ]
  },
  {
   "attachments": {},
   "cell_type": "markdown",
   "metadata": {},
   "source": [
    "### Q13."
   ]
  },
  {
   "attachments": {},
   "cell_type": "markdown",
   "metadata": {},
   "source": [
    "c) when no exceptions occurs"
   ]
  },
  {
   "attachments": {},
   "cell_type": "markdown",
   "metadata": {},
   "source": [
    "### Q14."
   ]
  },
  {
   "attachments": {},
   "cell_type": "markdown",
   "metadata": {},
   "source": [
    "The seek() method is used to  set the position of a file pointer in Python."
   ]
  },
  {
   "attachments": {},
   "cell_type": "markdown",
   "metadata": {},
   "source": [
    "### Q15."
   ]
  },
  {
   "attachments": {},
   "cell_type": "markdown",
   "metadata": {},
   "source": [
    "d) All of the mentioned"
   ]
  },
  {
   "attachments": {},
   "cell_type": "markdown",
   "metadata": {},
   "source": [
    "### Q16."
   ]
  },
  {
   "attachments": {},
   "cell_type": "markdown",
   "metadata": {},
   "source": [
    "'True' will be the output for the code"
   ]
  },
  {
   "attachments": {},
   "cell_type": "markdown",
   "metadata": {},
   "source": [
    "### Q17."
   ]
  },
  {
   "attachments": {},
   "cell_type": "markdown",
   "metadata": {},
   "source": [
    "git branch -d"
   ]
  },
  {
   "attachments": {},
   "cell_type": "markdown",
   "metadata": {},
   "source": [
    "### Q18."
   ]
  },
  {
   "attachments": {},
   "cell_type": "markdown",
   "metadata": {},
   "source": [
    "Both git pull and git fetch are commands that are used to update a local repository with changes from a remote repository however there are certain differences in how they operate:\n",
    "<br><br>\n",
    "'git pull':<br><br>\n",
    "    -It can be considered as a combination of two commands git fetch and git merge.\n",
    "    -When we run this it automaticallly fetched the latest changes from the remote repository and merges it to the current branch.<br>\n",
    "    -If there are any conflicts 'git pull' will automatically resolve any conflicts.\n",
    "    -Syntax is:<br>\n",
    "        git pull [remote] [branch] <br><br>\n",
    "'git fetch':<br><br>\n",
    "    -It only retrievs the latest changes from the remote repository and updates the remote tracking braches in the loacl repository.<br>\n",
    "    -It doesn't merge the changes in the local repository.<br>\n",
    "    -It allows room for channges and editing before we apply the final changes and merge the braches.<br>\n",
    "    -Syntax:<br>\n",
    "        git fetch [remote]\n"
   ]
  },
  {
   "attachments": {},
   "cell_type": "markdown",
   "metadata": {},
   "source": [
    "### Q19."
   ]
  },
  {
   "attachments": {},
   "cell_type": "markdown",
   "metadata": {},
   "source": [
    "Git Merge:<br><br>\n",
    "    Use git merge when you want to combine the changes from one branch into another branch.<br>\n",
    "    It creates a new commit that incorporates the changes from the merged branch while preserving the commit history of both branches.<br><br>\n",
    "Git Rebase:<br><br>\n",
    "    Use git rebase when you want to incorporate the changes from one branch onto another branch by moving or replaying the commits.<br>\n",
    "    It applies the commits from the rebased branch on top of the target branch, creating a new linear commit history.\n"
   ]
  },
  {
   "attachments": {},
   "cell_type": "markdown",
   "metadata": {},
   "source": [
    "### Q 20."
   ]
  },
  {
   "attachments": {},
   "cell_type": "markdown",
   "metadata": {},
   "source": [
    "To revert a bad commit in Git, you can use the git revert command. This command creates a new commit that undoes the changes introduced by the specified commit.\n",
    "\n"
   ]
  }
 ],
 "metadata": {
  "kernelspec": {
   "display_name": "Python 3",
   "language": "python",
   "name": "python3"
  },
  "language_info": {
   "codemirror_mode": {
    "name": "ipython",
    "version": 3
   },
   "file_extension": ".py",
   "mimetype": "text/x-python",
   "name": "python",
   "nbconvert_exporter": "python",
   "pygments_lexer": "ipython3",
   "version": "3.11.3"
  },
  "orig_nbformat": 4
 },
 "nbformat": 4,
 "nbformat_minor": 2
}
