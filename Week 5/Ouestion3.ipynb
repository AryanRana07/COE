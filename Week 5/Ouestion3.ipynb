{
  "cells": [
    {
      "cell_type": "code",
      "execution_count": 1,
      "metadata": {
        "colab": {
          "base_uri": "https://localhost:8080/"
        },
        "id": "tOwwRLgR3wqa",
        "outputId": "6dab4a86-c9ce-412b-c9af-6bafac0c3500"
      },
      "outputs": [
        {
          "name": "stdout",
          "output_type": "stream",
          "text": [
            "['Alaska', 'Dad']\n"
          ]
        }
      ],
      "source": [
        "def find_words(words):\n",
        "\n",
        "    r1 = set(\"qwertyuiop\")\n",
        "    r2 = set(\"asdfghjkl\")\n",
        "    r3 = set(\"zxcvbnm\")\n",
        "\n",
        "    result = []\n",
        "\n",
        "    for word in words:\n",
        "        lowercase = word.lower()\n",
        "        if set(lowercase).issubset(r1) or set(lowercase).issubset(r2) or set(lowercase).issubset(r3):\n",
        "            result.append(word)\n",
        "    return result\n",
        "\n",
        "words = [\"Hello\", \"Alaska\", \"Dad\", \"Peace\"]\n",
        "output = find_words(words)\n",
        "print(output)\n"
      ]
    }
  ],
  "metadata": {
    "colab": {
      "provenance": []
    },
    "kernelspec": {
      "display_name": "Python 3",
      "name": "python3"
    },
    "language_info": {
      "codemirror_mode": {
        "name": "ipython",
        "version": 3
      },
      "file_extension": ".py",
      "mimetype": "text/x-python",
      "name": "python",
      "nbconvert_exporter": "python",
      "pygments_lexer": "ipython3",
      "version": "3.11.3"
    }
  },
  "nbformat": 4,
  "nbformat_minor": 0
}
