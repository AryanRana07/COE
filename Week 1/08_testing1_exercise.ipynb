{
 "cells": [
  {
   "cell_type": "code",
   "execution_count": 1,
   "metadata": {},
   "outputs": [
    {
     "name": "stdout",
     "output_type": "stream",
     "text": [
      "Requirement already satisfied: pytest in /home/therealiota/anaconda3/envs/myenv/lib/python3.7/site-packages (7.3.1)\n",
      "Requirement already satisfied: exceptiongroup>=1.0.0rc8 in /home/therealiota/anaconda3/envs/myenv/lib/python3.7/site-packages (from pytest) (1.1.1)\n",
      "Requirement already satisfied: packaging in /home/therealiota/anaconda3/envs/myenv/lib/python3.7/site-packages (from pytest) (23.1)\n",
      "Requirement already satisfied: importlib-metadata>=0.12 in /home/therealiota/anaconda3/envs/myenv/lib/python3.7/site-packages (from pytest) (6.6.0)\n",
      "Requirement already satisfied: pluggy<2.0,>=0.12 in /home/therealiota/anaconda3/envs/myenv/lib/python3.7/site-packages (from pytest) (1.0.0)\n",
      "Requirement already satisfied: tomli>=1.0.0 in /home/therealiota/anaconda3/envs/myenv/lib/python3.7/site-packages (from pytest) (2.0.1)\n",
      "Requirement already satisfied: iniconfig in /home/therealiota/anaconda3/envs/myenv/lib/python3.7/site-packages (from pytest) (2.0.0)\n",
      "Requirement already satisfied: typing-extensions>=3.6.4 in /home/therealiota/anaconda3/envs/myenv/lib/python3.7/site-packages (from importlib-metadata>=0.12->pytest) (4.6.1)\n",
      "Requirement already satisfied: zipp>=0.5 in /home/therealiota/anaconda3/envs/myenv/lib/python3.7/site-packages (from importlib-metadata>=0.12->pytest) (3.15.0)\n",
      "Requirement already satisfied: ipytest in /home/therealiota/anaconda3/envs/myenv/lib/python3.7/site-packages (0.13.3)\n",
      "Requirement already satisfied: pytest>=5.4 in /home/therealiota/anaconda3/envs/myenv/lib/python3.7/site-packages (from ipytest) (7.3.1)\n",
      "Requirement already satisfied: ipython in /home/therealiota/anaconda3/envs/myenv/lib/python3.7/site-packages (from ipytest) (7.33.0)\n",
      "Requirement already satisfied: packaging in /home/therealiota/anaconda3/envs/myenv/lib/python3.7/site-packages (from ipytest) (23.1)\n",
      "Requirement already satisfied: importlib-metadata>=0.12 in /home/therealiota/anaconda3/envs/myenv/lib/python3.7/site-packages (from pytest>=5.4->ipytest) (6.6.0)\n",
      "Requirement already satisfied: exceptiongroup>=1.0.0rc8 in /home/therealiota/anaconda3/envs/myenv/lib/python3.7/site-packages (from pytest>=5.4->ipytest) (1.1.1)\n",
      "Requirement already satisfied: iniconfig in /home/therealiota/anaconda3/envs/myenv/lib/python3.7/site-packages (from pytest>=5.4->ipytest) (2.0.0)\n",
      "Requirement already satisfied: tomli>=1.0.0 in /home/therealiota/anaconda3/envs/myenv/lib/python3.7/site-packages (from pytest>=5.4->ipytest) (2.0.1)\n",
      "Requirement already satisfied: pluggy<2.0,>=0.12 in /home/therealiota/anaconda3/envs/myenv/lib/python3.7/site-packages (from pytest>=5.4->ipytest) (1.0.0)\n",
      "Requirement already satisfied: traitlets>=4.2 in /home/therealiota/anaconda3/envs/myenv/lib/python3.7/site-packages (from ipython->ipytest) (5.7.1)\n",
      "Requirement already satisfied: matplotlib-inline in /home/therealiota/anaconda3/envs/myenv/lib/python3.7/site-packages (from ipython->ipytest) (0.1.6)\n",
      "Requirement already satisfied: prompt-toolkit!=3.0.0,!=3.0.1,<3.1.0,>=2.0.0 in /home/therealiota/anaconda3/envs/myenv/lib/python3.7/site-packages (from ipython->ipytest) (3.0.36)\n",
      "Requirement already satisfied: pickleshare in /home/therealiota/anaconda3/envs/myenv/lib/python3.7/site-packages (from ipython->ipytest) (0.7.5)\n",
      "Requirement already satisfied: pygments in /home/therealiota/anaconda3/envs/myenv/lib/python3.7/site-packages (from ipython->ipytest) (2.11.2)\n",
      "Requirement already satisfied: pexpect>4.3 in /home/therealiota/anaconda3/envs/myenv/lib/python3.7/site-packages (from ipython->ipytest) (4.8.0)\n",
      "Requirement already satisfied: jedi>=0.16 in /home/therealiota/anaconda3/envs/myenv/lib/python3.7/site-packages (from ipython->ipytest) (0.18.1)\n",
      "Requirement already satisfied: backcall in /home/therealiota/anaconda3/envs/myenv/lib/python3.7/site-packages (from ipython->ipytest) (0.2.0)\n",
      "Requirement already satisfied: decorator in /home/therealiota/anaconda3/envs/myenv/lib/python3.7/site-packages (from ipython->ipytest) (5.1.1)\n",
      "Requirement already satisfied: setuptools>=18.5 in /home/therealiota/anaconda3/envs/myenv/lib/python3.7/site-packages (from ipython->ipytest) (65.6.3)\n",
      "Requirement already satisfied: zipp>=0.5 in /home/therealiota/anaconda3/envs/myenv/lib/python3.7/site-packages (from importlib-metadata>=0.12->pytest>=5.4->ipytest) (3.15.0)\n",
      "Requirement already satisfied: typing-extensions>=3.6.4 in /home/therealiota/anaconda3/envs/myenv/lib/python3.7/site-packages (from importlib-metadata>=0.12->pytest>=5.4->ipytest) (4.6.1)\n",
      "Requirement already satisfied: parso<0.9.0,>=0.8.0 in /home/therealiota/anaconda3/envs/myenv/lib/python3.7/site-packages (from jedi>=0.16->ipython->ipytest) (0.8.3)\n",
      "Requirement already satisfied: ptyprocess>=0.5 in /home/therealiota/anaconda3/envs/myenv/lib/python3.7/site-packages (from pexpect>4.3->ipython->ipytest) (0.7.0)\n",
      "Requirement already satisfied: wcwidth in /home/therealiota/anaconda3/envs/myenv/lib/python3.7/site-packages (from prompt-toolkit!=3.0.0,!=3.0.1,<3.1.0,>=2.0.0->ipython->ipytest) (0.2.5)\n"
     ]
    }
   ],
   "source": [
    "# Let's make sure pytest and ipytest packages are installed\n",
    "# ipytest is required for running pytest inside Jupyter notebooks\n",
    "import sys\n",
    "\n",
    "!{sys.executable} -m pip install pytest\n",
    "!{sys.executable} -m pip install ipytest\n",
    "\n",
    "# These are needed for running pytest inside Jupyter notebooks\n",
    "import ipytest\n",
    "\n",
    "ipytest.autoconfig()"
   ]
  },
  {
   "attachments": {},
   "cell_type": "markdown",
   "metadata": {},
   "source": [
    "# 1. Creating your first test case\n",
    "There is an implementation for `get_divisible_by_five` function in the cell below. Your task is to create a test case for this function to verify that it works correctly.\n"
   ]
  },
  {
   "cell_type": "code",
   "execution_count": 2,
   "metadata": {
    "editable": false
   },
   "outputs": [],
   "source": [
    "def get_divisible_by_five(numbers):\n",
    "    \"\"\"Returns a list of numbers which are divisible by five in the list got as an argument\"\"\"\n",
    "    result = []\n",
    "    for num in numbers:\n",
    "        if not num % 5:\n",
    "            result.append(num)\n",
    "\n",
    "    return result"
   ]
  },
  {
   "cell_type": "code",
   "execution_count": 3,
   "metadata": {},
   "outputs": [
    {
     "name": "stdout",
     "output_type": "stream",
     "text": [
      "\u001b[32m.\u001b[0m\u001b[32m                                                                                            [100%]\u001b[0m\n",
      "\u001b[32m\u001b[32m\u001b[1m1 passed\u001b[0m\u001b[32m in 0.01s\u001b[0m\u001b[0m\n"
     ]
    }
   ],
   "source": [
    "%%ipytest\n",
    "\n",
    "def test_get_divisible_by_five():\n",
    "    # Your implementation here\n",
    "    numbers = [1,2,5,15,12,20]\n",
    "\n",
    "    assert get_divisible_by_five(numbers) == [5,15,20]"
   ]
  },
  {
   "cell_type": "code",
   "execution_count": null,
   "metadata": {},
   "outputs": [],
   "source": []
  }
 ],
 "metadata": {
  "kernelspec": {
   "display_name": "Python 3 (ipykernel)",
   "language": "python",
   "name": "python3"
  },
  "language_info": {
   "codemirror_mode": {
    "name": "ipython",
    "version": 3
   },
   "file_extension": ".py",
   "mimetype": "text/x-python",
   "name": "python",
   "nbconvert_exporter": "python",
   "pygments_lexer": "ipython3",
   "version": "3.7.16"
  }
 },
 "nbformat": 4,
 "nbformat_minor": 2
}
